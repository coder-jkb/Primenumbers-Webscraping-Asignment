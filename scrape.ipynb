{
 "cells": [
  {
   "attachments": {},
   "cell_type": "markdown",
   "metadata": {},
   "source": [
    "# Write a python program to Scrape the below-mentioned site and bring in the list of the first 5 postings under the \"Search Postings\" heading containing the following fields: Est. Value Notes, Description, Closing Date "
   ]
  },
  {
   "cell_type": "markdown",
   "metadata": {},
   "source": [
    "## Import essential modules/libraries"
   ]
  },
  {
   "cell_type": "code",
   "execution_count": 1,
   "metadata": {},
   "outputs": [
    {
     "name": "stdout",
     "output_type": "stream",
     "text": [
      "Requirement already satisfied: webdriver-manager in c:\\users\\jay\\appdata\\local\\programs\\python\\python39\\lib\\site-packages (3.8.6)Note: you may need to restart the kernel to use updated packages.\n"
     ]
    },
    {
     "name": "stderr",
     "output_type": "stream",
     "text": [
      "\n",
      "[notice] A new release of pip available: 22.3.1 -> 23.1.2\n",
      "[notice] To update, run: python.exe -m pip install --upgrade pip\n"
     ]
    },
    {
     "name": "stdout",
     "output_type": "stream",
     "text": [
      "\n",
      "Requirement already satisfied: python-dotenv in c:\\users\\jay\\appdata\\local\\programs\\python\\python39\\lib\\site-packages (from webdriver-manager) (1.0.0)\n",
      "Requirement already satisfied: requests in c:\\users\\jay\\appdata\\local\\programs\\python\\python39\\lib\\site-packages (from webdriver-manager) (2.21.0)\n",
      "Requirement already satisfied: packaging in c:\\users\\jay\\appdata\\roaming\\python\\python39\\site-packages (from webdriver-manager) (23.0)\n",
      "Requirement already satisfied: tqdm in c:\\users\\jay\\appdata\\local\\programs\\python\\python39\\lib\\site-packages (from webdriver-manager) (4.62.3)\n",
      "Requirement already satisfied: urllib3<1.25,>=1.21.1 in c:\\users\\jay\\appdata\\local\\programs\\python\\python39\\lib\\site-packages (from requests->webdriver-manager) (1.24.3)\n",
      "Requirement already satisfied: idna<2.9,>=2.5 in c:\\users\\jay\\appdata\\local\\programs\\python\\python39\\lib\\site-packages (from requests->webdriver-manager) (2.8)\n",
      "Requirement already satisfied: certifi>=2017.4.17 in c:\\users\\jay\\appdata\\local\\programs\\python\\python39\\lib\\site-packages (from requests->webdriver-manager) (2022.6.15)\n",
      "Requirement already satisfied: chardet<3.1.0,>=3.0.2 in c:\\users\\jay\\appdata\\local\\programs\\python\\python39\\lib\\site-packages (from requests->webdriver-manager) (3.0.4)\n",
      "Requirement already satisfied: colorama in c:\\users\\jay\\appdata\\roaming\\python\\python39\\site-packages (from tqdm->webdriver-manager) (0.4.6)\n"
     ]
    }
   ],
   "source": [
    "%pip install selenium\n",
    "%pip install webdriver-manager"
   ]
  },
  {
   "cell_type": "code",
   "execution_count": 2,
   "metadata": {},
   "outputs": [],
   "source": [
    "import csv\n",
    "from selenium import webdriver\n",
    "from selenium.webdriver.common.by import By\n",
    "from selenium.webdriver.chrome.service import Service\n",
    "from webdriver_manager.chrome import ChromeDriverManager\n",
    "from selenium.webdriver.chrome.options import Options\n",
    "\n",
    "from selenium.common.exceptions import TimeoutException\n",
    "from selenium.webdriver.support.ui import WebDriverWait\n",
    "from selenium.webdriver.support import expected_conditions as EC\n",
    "\n",
    "from selenium.webdriver.common.action_chains import ActionChains\n",
    "from selenium.webdriver.common.keys import Keys\n"
   ]
  },
  {
   "attachments": {},
   "cell_type": "markdown",
   "metadata": {},
   "source": [
    "## definig xpaths and fields for csv"
   ]
  },
  {
   "cell_type": "code",
   "execution_count": 3,
   "metadata": {},
   "outputs": [],
   "source": [
    "# field names\n",
    "fields = ['Est. Value Notes', 'Description', 'Closing Date']"
   ]
  },
  {
   "cell_type": "code",
   "execution_count": 4,
   "metadata": {},
   "outputs": [],
   "source": [
    "rows_xpaths = ['//*[@id=\"table_id\"]/tbody/tr[1]/td[4]/div/a',\n",
    "          '//*[@id=\"1\"]/td[4]/div/a',\n",
    "          '//*[@id=\"2\"]/td[4]/div/a',\n",
    "          '//*[@id=\"3\"]/td[4]/div/a',\n",
    "          '//*[@id=\"4\"]/td[4]/div/a' ] # first 5 rows"
   ]
  },
  {
   "cell_type": "code",
   "execution_count": 5,
   "metadata": {},
   "outputs": [],
   "source": [
    "details_xpath = [\n",
    "    # Est. Value Notes\n",
    "    '//*[@id=\"current_project\"]/div/div[2]/div/table/tbody/tr[3]/td[2]',\n",
    "\n",
    "    # Description \n",
    "    '//*[@id=\"current_project\"]/div/div[3]/div/table/tbody/tr[3]/td[2]',\n",
    "    \n",
    "    # Closing Date\n",
    "    '//*[@id=\"current_project\"]/div/div[2]/div/table/tbody/tr[1]/td[2]'\n",
    "]"
   ]
  },
  {
   "attachments": {},
   "cell_type": "markdown",
   "metadata": {},
   "source": [
    "## Function to launch browser and get a given link"
   ]
  },
  {
   "cell_type": "code",
   "execution_count": 6,
   "metadata": {},
   "outputs": [],
   "source": [
    "\n",
    "def launch_chrome(link, headless=False):\n",
    "    ops = Options()  # create object of Options\n",
    "\n",
    "    if headless:\n",
    "        ops.add_argument('--headless')  # headless browser testing\n",
    "\n",
    "    # prevents browser from closing when function is returned\n",
    "    ops.add_experimental_option(\"detach\", True)\n",
    "\n",
    "    driver = webdriver.Chrome(options=ops,  service=Service(\n",
    "        ChromeDriverManager().install()))\n",
    "\n",
    "    driver.get(link)\n",
    "    return driver\n"
   ]
  },
  {
   "attachments": {},
   "cell_type": "markdown",
   "metadata": {},
   "source": [
    "## Function that extracts element using xpath\n",
    "- In try block it waits untill page is fully loaded then findes the slement with given xpath\n",
    "- If timeout then none is returned mentioning that element was not found, either due to incorrect xpath or unabe to load page"
   ]
  },
  {
   "cell_type": "code",
   "execution_count": 7,
   "metadata": {},
   "outputs": [],
   "source": [
    "def get_element(driver, path, timeout):\n",
    "    element_present = None\n",
    "\n",
    "    try:\n",
    "        element_present = WebDriverWait(driver, timeout).until(\n",
    "            EC.presence_of_element_located((By.XPATH, path)))\n",
    "        \n",
    "        # element_present = EC.presence_of_element_located((By.XPATH, path))\n",
    "        # print(element_present)\n",
    "        # WebDriverWait(driver, timeout).until(element_present)\n",
    "\n",
    "    except TimeoutException:\n",
    "        print(\"Timed out waiting for page to load\")\n",
    "        print(path)\n",
    "    finally:\n",
    "        return element_present\n"
   ]
  },
  {
   "attachments": {},
   "cell_type": "markdown",
   "metadata": {},
   "source": [
    "# Get details function finds the required details:\n",
    "- given an element it clicks the link in html tablw row\n",
    "- extracts required details using xpath\n",
    "- reloads page to go back to table \n",
    "- gets details for 5 rows iteratively as required."
   ]
  },
  {
   "cell_type": "code",
   "execution_count": 8,
   "metadata": {},
   "outputs": [],
   "source": [
    "def get_details(driver, element):\n",
    "    element.click()\n",
    "\n",
    "    est_value_notes = get_element(driver, details_xpath[0], timeout=5).text\n",
    "    desc = get_element(driver, details_xpath[1], timeout=5).text\n",
    "    closing = get_element(driver, details_xpath[2], timeout=5).text\n",
    "\n",
    "    driver.refresh()\n",
    "\n",
    "    return ([est_value_notes, desc, closing])"
   ]
  },
  {
   "attachments": {},
   "cell_type": "markdown",
   "metadata": {},
   "source": [
    "# Working block where in the above functions are executed in logical sequence to get the information and store in a csv file.  "
   ]
  },
  {
   "cell_type": "code",
   "execution_count": 9,
   "metadata": {},
   "outputs": [
    {
     "name": "stdout",
     "output_type": "stream",
     "text": [
      "<selenium.webdriver.remote.webelement.WebElement (session=\"8aefe3d973d671e67abc8523a11eb255\", element=\"C07A409D67BF58C934D57F81D3CC95BF_element_111\")>\n",
      "['$1,000,000.00 to $2,500,000.00', 'reconstructing 3000 E at Foothill Road and adding a deceleration lane at E 2800 N', 'Tue, 06/06/2023 02:00 PM MDT']\n",
      "<selenium.webdriver.remote.webelement.WebElement (session=\"8aefe3d973d671e67abc8523a11eb255\", element=\"E23D84133F93D7AB549501C43CEFD54B_element_190\")>\n",
      "['$500,000.00 to $1,000,000.00', 'constructing a signal on SH-75, MP 121', 'Tue, 06/06/2023 02:00 PM MDT']\n",
      "<selenium.webdriver.remote.webelement.WebElement (session=\"8aefe3d973d671e67abc8523a11eb255\", element=\"0775A0326715C1BAAE75C63A9CE6FAF7_element_269\")>\n",
      "['$500,000 to $1,000,000', 'Reapplying water borne pavement markings to various highway routes', 'Tue, 06/06/2023 02:00 PM MDT']\n",
      "<selenium.webdriver.remote.webelement.WebElement (session=\"8aefe3d973d671e67abc8523a11eb255\", element=\"831C8F712EBD956876418DC901B1C6B6_element_342\")>\n",
      "['$500,000 to $1,000,000', 'pavement striping on I-84 from MP 121.094 to MP 275.650, EBL & WBL; I-86 from MP 0.00 to MP 14.82, EBL & WBL; US-30 from MP 211.00 to MP 222.56; SH-74 from MP 0.00 to MP 7.67; US 93 from MP 31.00 to MP 50.036; Bliss & Juniper Rest Areas, Cottrell Port Entry & Rest Area, Junction US 30/93, and the Flyover located at US-93', 'Tue, 06/06/2023 02:00 PM MDT']\n",
      "<selenium.webdriver.remote.webelement.WebElement (session=\"8aefe3d973d671e67abc8523a11eb255\", element=\"618DEF9FB5FE86324274BE5821A9AED0_element_422\")>\n",
      "['$1,000,000.00 to $2,500,000.00', 'chip seal and fog coat of SH-3 from MP 111.38 to MP 117.68 and SH-54 from MP 8.162 to 11.80 and SH-97 from MP 69.07 to MP 81.50', 'Tue, 06/06/2023 02:00 PM MDT']\n"
     ]
    }
   ],
   "source": [
    "tdriver = launch_chrome(\n",
    "    \"https://qcpi.questcdn.com/cdn/posting/?group=1950787&provider=1950787\")\n",
    "\n",
    "\n",
    "# data rows of csv file\n",
    "rows = []\n",
    "\n",
    "for i in range(5):\n",
    "    # timeout in seconds\n",
    "    element = get_element(tdriver, rows_xpaths[i], timeout=10)\n",
    "    print(element)\n",
    "    details = get_details(tdriver, element)\n",
    "    print(details)\n",
    "    rows.append(details)\n",
    "\n",
    "\n",
    "with open('data.csv', 'a', encoding='utf8', newline='') as csv_file:\n",
    "\n",
    "    # using csv.writer method from CSV package\n",
    "    write = csv.writer(csv_file)\n",
    "    write.writerow(fields)\n",
    "    write.writerows(rows)\n",
    "\n",
    "tdriver.close()\n",
    "tdriver.quit()\n"
   ]
  }
 ],
 "metadata": {
  "kernelspec": {
   "display_name": "Python 3",
   "language": "python",
   "name": "python3"
  },
  "language_info": {
   "codemirror_mode": {
    "name": "ipython",
    "version": 3
   },
   "file_extension": ".py",
   "mimetype": "text/x-python",
   "name": "python",
   "nbconvert_exporter": "python",
   "pygments_lexer": "ipython3",
   "version": "3.9.1"
  },
  "orig_nbformat": 4
 },
 "nbformat": 4,
 "nbformat_minor": 2
}
